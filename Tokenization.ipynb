{
 "cells": [
  {
   "cell_type": "code",
   "execution_count": 1,
   "id": "a90dfc54-62f5-4b80-8478-784c8037f8b1",
   "metadata": {},
   "outputs": [
    {
     "name": "stdout",
     "output_type": "stream",
     "text": [
      "Defaulting to user installation because normal site-packages is not writeable\n",
      "Requirement already satisfied: nltk in c:\\users\\wania\\appdata\\local\\packages\\pythonsoftwarefoundation.python.3.13_qbz5n2kfra8p0\\localcache\\local-packages\\python313\\site-packages (3.9.1)\n",
      "Requirement already satisfied: click in c:\\users\\wania\\appdata\\local\\packages\\pythonsoftwarefoundation.python.3.13_qbz5n2kfra8p0\\localcache\\local-packages\\python313\\site-packages (from nltk) (8.2.1)\n",
      "Requirement already satisfied: joblib in c:\\users\\wania\\appdata\\local\\packages\\pythonsoftwarefoundation.python.3.13_qbz5n2kfra8p0\\localcache\\local-packages\\python313\\site-packages (from nltk) (1.5.1)\n",
      "Requirement already satisfied: regex>=2021.8.3 in c:\\users\\wania\\appdata\\local\\packages\\pythonsoftwarefoundation.python.3.13_qbz5n2kfra8p0\\localcache\\local-packages\\python313\\site-packages (from nltk) (2024.11.6)\n",
      "Requirement already satisfied: tqdm in c:\\users\\wania\\appdata\\local\\packages\\pythonsoftwarefoundation.python.3.13_qbz5n2kfra8p0\\localcache\\local-packages\\python313\\site-packages (from nltk) (4.67.1)\n",
      "Requirement already satisfied: colorama in c:\\users\\wania\\appdata\\local\\packages\\pythonsoftwarefoundation.python.3.13_qbz5n2kfra8p0\\localcache\\local-packages\\python313\\site-packages (from click->nltk) (0.4.6)\n"
     ]
    }
   ],
   "source": [
    "!pip install nltk"
   ]
  },
  {
   "cell_type": "code",
   "execution_count": 2,
   "id": "95f627f9-dcd0-4f59-8b13-d42d90c877b0",
   "metadata": {},
   "outputs": [
    {
     "name": "stdout",
     "output_type": "stream",
     "text": [
      "My name is Keshav, and I’m a software engineer who loves building tools that make life easier. In my free time, I enjoy's hiking, experimenting with new recipes, and playing chess. I believe learning is a lifelong journey, and I’m always curious about how things work.\n",
      "\n",
      "\n"
     ]
    }
   ],
   "source": [
    "corpus=\"\"\"My name is Keshav, and I’m a software engineer who loves building tools that make life easier. In my free time, I enjoy hiking, experimenting with new recipes, and playing chess. I believe learning is a lifelong journey, and I’m always curious about how things work.\n",
    "\n",
    "\"\"\"\n",
    "print(corpus)"
   ]
  },
  {
   "cell_type": "code",
   "execution_count": null,
   "id": "1c657925-5fae-4d38-bfb7-832650f38e0d",
   "metadata": {},
   "outputs": [
    {
     "name": "stderr",
     "output_type": "stream",
     "text": [
      "[nltk_data] Downloading package punkt to\n",
      "[nltk_data]     C:\\Users\\wania\\AppData\\Roaming\\nltk_data...\n",
      "[nltk_data]   Package punkt is already up-to-date!\n",
      "[nltk_data] Downloading package punkt_tab to\n",
      "[nltk_data]     C:\\Users\\wania\\AppData\\Roaming\\nltk_data...\n",
      "[nltk_data]   Package punkt_tab is already up-to-date!\n"
     ]
    },
    {
     "data": {
      "text/plain": [
       "True"
      ]
     },
     "execution_count": 3,
     "metadata": {},
     "output_type": "execute_result"
    }
   ],
   "source": [
    "# Tokenization - The process of splitting text into smaller units called as tokens ( paragraphs -> sentences -> word )\n",
    "# Paragraph - > Sentences\n",
    "from nltk.tokenize import sent_tokenize\n",
    "import nltk\n",
    "nltk.download('punkt')\n",
    "nltk.download('punkt_tab')\n",
    "\n"
   ]
  },
  {
   "cell_type": "code",
   "execution_count": 4,
   "id": "dc48d544-e76c-4ab6-979b-fdfed5c19155",
   "metadata": {},
   "outputs": [
    {
     "name": "stdout",
     "output_type": "stream",
     "text": [
      "<class 'list'>\n",
      "My name is Keshav, and I’m a software engineer who loves building tools that make life easier.\n",
      "In my free time, I enjoy's hiking, experimenting with new recipes, and playing chess.\n",
      "I believe learning is a lifelong journey, and I’m always curious about how things work.\n"
     ]
    }
   ],
   "source": [
    "documents=sent_tokenize(corpus)\n",
    "print(type(documents))\n",
    "\n",
    "for Sentence in documents:\n",
    "    print(Sentence)"
   ]
  },
  {
   "cell_type": "code",
   "execution_count": 5,
   "id": "690d7a7f-b6e3-4e0f-aaa5-bf859c38d7e1",
   "metadata": {},
   "outputs": [
    {
     "data": {
      "text/plain": [
       "['My',\n",
       " 'name',\n",
       " 'is',\n",
       " 'Keshav',\n",
       " ',',\n",
       " 'and',\n",
       " 'I',\n",
       " '’',\n",
       " 'm',\n",
       " 'a',\n",
       " 'software',\n",
       " 'engineer',\n",
       " 'who',\n",
       " 'loves',\n",
       " 'building',\n",
       " 'tools',\n",
       " 'that',\n",
       " 'make',\n",
       " 'life',\n",
       " 'easier',\n",
       " '.',\n",
       " 'In',\n",
       " 'my',\n",
       " 'free',\n",
       " 'time',\n",
       " ',',\n",
       " 'I',\n",
       " 'enjoy',\n",
       " \"'s\",\n",
       " 'hiking',\n",
       " ',',\n",
       " 'experimenting',\n",
       " 'with',\n",
       " 'new',\n",
       " 'recipes',\n",
       " ',',\n",
       " 'and',\n",
       " 'playing',\n",
       " 'chess',\n",
       " '.',\n",
       " 'I',\n",
       " 'believe',\n",
       " 'learning',\n",
       " 'is',\n",
       " 'a',\n",
       " 'lifelong',\n",
       " 'journey',\n",
       " ',',\n",
       " 'and',\n",
       " 'I',\n",
       " '’',\n",
       " 'm',\n",
       " 'always',\n",
       " 'curious',\n",
       " 'about',\n",
       " 'how',\n",
       " 'things',\n",
       " 'work',\n",
       " '.']"
      ]
     },
     "execution_count": 5,
     "metadata": {},
     "output_type": "execute_result"
    }
   ],
   "source": [
    "# Tokenization\n",
    "# Paragraph -> words\n",
    "# Sentence -> words\n",
    "from nltk.tokenize import word_tokenize\n",
    "word_tokenize(corpus)"
   ]
  },
  {
   "cell_type": "code",
   "execution_count": 6,
   "id": "f228a16f-819c-45ca-9624-b25892199776",
   "metadata": {},
   "outputs": [
    {
     "name": "stdout",
     "output_type": "stream",
     "text": [
      "['My', 'name', 'is', 'Keshav', ',', 'and', 'I', '’', 'm', 'a', 'software', 'engineer', 'who', 'loves', 'building', 'tools', 'that', 'make', 'life', 'easier', '.']\n",
      "['In', 'my', 'free', 'time', ',', 'I', 'enjoy', \"'s\", 'hiking', ',', 'experimenting', 'with', 'new', 'recipes', ',', 'and', 'playing', 'chess', '.']\n",
      "['I', 'believe', 'learning', 'is', 'a', 'lifelong', 'journey', ',', 'and', 'I', '’', 'm', 'always', 'curious', 'about', 'how', 'things', 'work', '.']\n"
     ]
    }
   ],
   "source": [
    "for Sentence in documents:\n",
    "    print(word_tokenize(Sentence))"
   ]
  },
  {
   "cell_type": "code",
   "execution_count": 7,
   "id": "fdc4c727-431a-4737-9017-5cdf07904df8",
   "metadata": {},
   "outputs": [
    {
     "name": "stdout",
     "output_type": "stream",
     "text": [
      "['I', \"'\", 'm', 'learning', 'NLP', '!']\n"
     ]
    }
   ],
   "source": [
    "from nltk.tokenize import wordpunct_tokenize\n",
    "\n",
    "text = \"I'm learning NLP!\"\n",
    "print(wordpunct_tokenize(text))\n"
   ]
  },
  {
   "cell_type": "code",
   "execution_count": 8,
   "id": "e3c15502-11e2-4f03-a009-5a3c66715cc6",
   "metadata": {},
   "outputs": [
    {
     "data": {
      "text/plain": [
       "['My',\n",
       " 'name',\n",
       " 'is',\n",
       " 'Keshav',\n",
       " ',',\n",
       " 'and',\n",
       " 'I’m',\n",
       " 'a',\n",
       " 'software',\n",
       " 'engineer',\n",
       " 'who',\n",
       " 'loves',\n",
       " 'building',\n",
       " 'tools',\n",
       " 'that',\n",
       " 'make',\n",
       " 'life',\n",
       " 'easier.',\n",
       " 'In',\n",
       " 'my',\n",
       " 'free',\n",
       " 'time',\n",
       " ',',\n",
       " 'I',\n",
       " 'enjoy',\n",
       " \"'s\",\n",
       " 'hiking',\n",
       " ',',\n",
       " 'experimenting',\n",
       " 'with',\n",
       " 'new',\n",
       " 'recipes',\n",
       " ',',\n",
       " 'and',\n",
       " 'playing',\n",
       " 'chess.',\n",
       " 'I',\n",
       " 'believe',\n",
       " 'learning',\n",
       " 'is',\n",
       " 'a',\n",
       " 'lifelong',\n",
       " 'journey',\n",
       " ',',\n",
       " 'and',\n",
       " 'I’m',\n",
       " 'always',\n",
       " 'curious',\n",
       " 'about',\n",
       " 'how',\n",
       " 'things',\n",
       " 'work',\n",
       " '.']"
      ]
     },
     "execution_count": 8,
     "metadata": {},
     "output_type": "execute_result"
    }
   ],
   "source": [
    "from nltk.tokenize import TreebankWordTokenizer\n",
    "tokenizer=TreebankWordTokenizer()\n",
    "tokenizer.tokenize(corpus)"
   ]
  },
  {
   "cell_type": "code",
   "execution_count": null,
   "id": "3a7de8fb-8993-4385-9a2e-816b501fdd00",
   "metadata": {},
   "outputs": [],
   "source": []
  },
}
  
