{
 "cells": [
  {
   "cell_type": "markdown",
   "id": "d476ef96-5f6c-4acc-aada-0d59be660b1a",
   "metadata": {},
   "source": [
    "# STOPWORDS WITH NLTK"
   ]
  },
  {
   "cell_type": "code",
   "execution_count": 2,
   "id": "d808b7f9-42c0-47c1-ac41-2d0d90e9d6c0",
   "metadata": {},
   "outputs": [],
   "source": [
    "# Swami Vivekananda’s addresses to the youth\n",
    "paragraph=\"\"\"My young friends, the strength of a nation does not come from the riches of its soil or the size of its armies, but from the character and determination of its youth. You are the torchbearers of tomorrow, and the future of India rests in your hands. Do not be weak or timid, for weakness is the greatest enemy of progress. Fill your hearts with courage, fill your minds with knowledge, and dedicate your lives to selfless service. Remember that every great civilization was built by the hard work and sacrifice of ordinary men and women who dared to dream big. India needs such dreamers today — men and women who will rise above selfishness and division, and who will dedicate themselves to the cause of unity and upliftment. Do not wait for others to act; take the first step yourself. Have faith in your own strength, believe in the power of truth, and let your life be a message of hope for those around you. If every young person can awaken to this call of duty, no force on earth can stop our nation from reaching the highest peaks of greatness.\"\"\""
   ]
  },
  {
   "cell_type": "code",
   "execution_count": 1,
   "id": "f5bca648-5c69-4bb7-af05-a72678d8ed66",
   "metadata": {},
   "outputs": [],
   "source": [
    "from nltk.stem import PorterStemmer"
   ]
  },
  {
   "cell_type": "code",
   "execution_count": 3,
   "id": "890d19bc-163d-4e08-b068-4805f4e64861",
   "metadata": {},
   "outputs": [],
   "source": [
    "from nltk.corpus import stopwords"
   ]
  },
  {
   "cell_type": "code",
   "execution_count": 4,
   "id": "8fd524bb-8fcf-4e1c-bf1b-9640e4643c33",
   "metadata": {},
   "outputs": [
    {
     "name": "stderr",
     "output_type": "stream",
     "text": [
      "[nltk_data] Downloading package stopwords to\n",
      "[nltk_data]     C:\\Users\\wania\\AppData\\Roaming\\nltk_data...\n",
      "[nltk_data]   Unzipping corpora\\stopwords.zip.\n"
     ]
    },
    {
     "data": {
      "text/plain": [
       "True"
      ]
     },
     "execution_count": 4,
     "metadata": {},
     "output_type": "execute_result"
    }
   ],
   "source": [
    "import nltk\n",
    "nltk.download('stopwords')"
   ]
  },
  {
   "cell_type": "code",
   "execution_count": 5,
   "id": "c93e7de3-86db-42f3-9c34-85086216d010",
   "metadata": {},
   "outputs": [
    {
     "data": {
      "text/plain": [
       "['a',\n",
       " 'about',\n",
       " 'above',\n",
       " 'after',\n",
       " 'again',\n",
       " 'against',\n",
       " 'ain',\n",
       " 'all',\n",
       " 'am',\n",
       " 'an',\n",
       " 'and',\n",
       " 'any',\n",
       " 'are',\n",
       " 'aren',\n",
       " \"aren't\",\n",
       " 'as',\n",
       " 'at',\n",
       " 'be',\n",
       " 'because',\n",
       " 'been',\n",
       " 'before',\n",
       " 'being',\n",
       " 'below',\n",
       " 'between',\n",
       " 'both',\n",
       " 'but',\n",
       " 'by',\n",
       " 'can',\n",
       " 'couldn',\n",
       " \"couldn't\",\n",
       " 'd',\n",
       " 'did',\n",
       " 'didn',\n",
       " \"didn't\",\n",
       " 'do',\n",
       " 'does',\n",
       " 'doesn',\n",
       " \"doesn't\",\n",
       " 'doing',\n",
       " 'don',\n",
       " \"don't\",\n",
       " 'down',\n",
       " 'during',\n",
       " 'each',\n",
       " 'few',\n",
       " 'for',\n",
       " 'from',\n",
       " 'further',\n",
       " 'had',\n",
       " 'hadn',\n",
       " \"hadn't\",\n",
       " 'has',\n",
       " 'hasn',\n",
       " \"hasn't\",\n",
       " 'have',\n",
       " 'haven',\n",
       " \"haven't\",\n",
       " 'having',\n",
       " 'he',\n",
       " \"he'd\",\n",
       " \"he'll\",\n",
       " 'her',\n",
       " 'here',\n",
       " 'hers',\n",
       " 'herself',\n",
       " \"he's\",\n",
       " 'him',\n",
       " 'himself',\n",
       " 'his',\n",
       " 'how',\n",
       " 'i',\n",
       " \"i'd\",\n",
       " 'if',\n",
       " \"i'll\",\n",
       " \"i'm\",\n",
       " 'in',\n",
       " 'into',\n",
       " 'is',\n",
       " 'isn',\n",
       " \"isn't\",\n",
       " 'it',\n",
       " \"it'd\",\n",
       " \"it'll\",\n",
       " \"it's\",\n",
       " 'its',\n",
       " 'itself',\n",
       " \"i've\",\n",
       " 'just',\n",
       " 'll',\n",
       " 'm',\n",
       " 'ma',\n",
       " 'me',\n",
       " 'mightn',\n",
       " \"mightn't\",\n",
       " 'more',\n",
       " 'most',\n",
       " 'mustn',\n",
       " \"mustn't\",\n",
       " 'my',\n",
       " 'myself',\n",
       " 'needn',\n",
       " \"needn't\",\n",
       " 'no',\n",
       " 'nor',\n",
       " 'not',\n",
       " 'now',\n",
       " 'o',\n",
       " 'of',\n",
       " 'off',\n",
       " 'on',\n",
       " 'once',\n",
       " 'only',\n",
       " 'or',\n",
       " 'other',\n",
       " 'our',\n",
       " 'ours',\n",
       " 'ourselves',\n",
       " 'out',\n",
       " 'over',\n",
       " 'own',\n",
       " 're',\n",
       " 's',\n",
       " 'same',\n",
       " 'shan',\n",
       " \"shan't\",\n",
       " 'she',\n",
       " \"she'd\",\n",
       " \"she'll\",\n",
       " \"she's\",\n",
       " 'should',\n",
       " 'shouldn',\n",
       " \"shouldn't\",\n",
       " \"should've\",\n",
       " 'so',\n",
       " 'some',\n",
       " 'such',\n",
       " 't',\n",
       " 'than',\n",
       " 'that',\n",
       " \"that'll\",\n",
       " 'the',\n",
       " 'their',\n",
       " 'theirs',\n",
       " 'them',\n",
       " 'themselves',\n",
       " 'then',\n",
       " 'there',\n",
       " 'these',\n",
       " 'they',\n",
       " \"they'd\",\n",
       " \"they'll\",\n",
       " \"they're\",\n",
       " \"they've\",\n",
       " 'this',\n",
       " 'those',\n",
       " 'through',\n",
       " 'to',\n",
       " 'too',\n",
       " 'under',\n",
       " 'until',\n",
       " 'up',\n",
       " 've',\n",
       " 'very',\n",
       " 'was',\n",
       " 'wasn',\n",
       " \"wasn't\",\n",
       " 'we',\n",
       " \"we'd\",\n",
       " \"we'll\",\n",
       " \"we're\",\n",
       " 'were',\n",
       " 'weren',\n",
       " \"weren't\",\n",
       " \"we've\",\n",
       " 'what',\n",
       " 'when',\n",
       " 'where',\n",
       " 'which',\n",
       " 'while',\n",
       " 'who',\n",
       " 'whom',\n",
       " 'why',\n",
       " 'will',\n",
       " 'with',\n",
       " 'won',\n",
       " \"won't\",\n",
       " 'wouldn',\n",
       " \"wouldn't\",\n",
       " 'y',\n",
       " 'you',\n",
       " \"you'd\",\n",
       " \"you'll\",\n",
       " 'your',\n",
       " \"you're\",\n",
       " 'yours',\n",
       " 'yourself',\n",
       " 'yourselves',\n",
       " \"you've\"]"
      ]
     },
     "execution_count": 5,
     "metadata": {},
     "output_type": "execute_result"
    }
   ],
   "source": [
    "stopwords.words('english')"
   ]
  },
  {
   "cell_type": "code",
   "execution_count": 8,
   "id": "9029c07c-101f-4984-8de7-ddf95b2bab03",
   "metadata": {},
   "outputs": [],
   "source": [
    "stemmer=PorterStemmer()"
   ]
  },
  {
   "cell_type": "code",
   "execution_count": 11,
   "id": "319915fc-5724-4875-b9a1-1ed5d29b430c",
   "metadata": {},
   "outputs": [
    {
     "name": "stdout",
     "output_type": "stream",
     "text": [
      "<class 'list'>\n",
      "['My young friends, the strength of a nation does not come from the riches of its soil or the size of its armies, but from the character and determination of its youth.', 'You are the torchbearers of tomorrow, and the future of India rests in your hands.', 'Do not be weak or timid, for weakness is the greatest enemy of progress.', 'Fill your hearts with courage, fill your minds with knowledge, and dedicate your lives to selfless service.', 'Remember that every great civilization was built by the hard work and sacrifice of ordinary men and women who dared to dream big.', 'India needs such dreamers today — men and women who will rise above selfishness and division, and who will dedicate themselves to the cause of unity and upliftment.', 'Do not wait for others to act; take the first step yourself.', 'Have faith in your own strength, believe in the power of truth, and let your life be a message of hope for those around you.', 'If every young person can awaken to this call of duty, no force on earth can stop our nation from reaching the highest peaks of greatness.']\n"
     ]
    }
   ],
   "source": [
    "sentences=nltk.sent_tokenize(paragraph)\n",
    "print(type(sentences))\n",
    "print(sentences)"
   ]
  },
  {
   "cell_type": "markdown",
   "id": "fd595153-4466-4725-a21a-565e1e6e426c",
   "metadata": {},
   "source": [
    "## Apply Stopwords and Filter and then Apply Stemming"
   ]
  },
  {
   "cell_type": "code",
   "execution_count": 18,
   "id": "8f85dd35-389a-4575-850a-349fb4f13e1d",
   "metadata": {},
   "outputs": [],
   "source": [
    "# Using Porterstemmer\n",
    "for i in range(len(sentences)):\n",
    "    words=nltk.word_tokenize(sentences[i])\n",
    "    words=[stemmer.stem(word) for word in words if word not in set(stopwords.words('english'))]\n",
    "    sentences[i]=' '.join(words) # Conerting all the list of words into sentences"
   ]
  },
  {
   "cell_type": "code",
   "execution_count": 17,
   "id": "4d297672-22ee-49b6-a4ee-08e4187d60b8",
   "metadata": {},
   "outputs": [
    {
     "data": {
      "text/plain": [
       "['my young friend , strength nation come rich soil size armi , charact determin youth .',\n",
       " 'you torchbear tomorrow , futur india rest hand .',\n",
       " 'do weak timid , weak greatest enemi progress .',\n",
       " 'fill heart courag , fill mind knowledg , dedic live selfless servic .',\n",
       " 'rememb everi great civil built hard work sacrific ordinari men women dare dream big .',\n",
       " 'india need dreamer today — men women rise selfish divis , dedic caus uniti uplift .',\n",
       " 'do wait other act ; take first step .',\n",
       " 'have faith strength , believ power truth , let life messag hope around .',\n",
       " 'if everi young person awaken call duti , forc earth stop nation reach highest peak great .']"
      ]
     },
     "execution_count": 17,
     "metadata": {},
     "output_type": "execute_result"
    }
   ],
   "source": [
    "sentences"
   ]
  },
  {
   "cell_type": "code",
   "execution_count": 43,
   "id": "1dd943b6-e5c6-4575-aeed-b23adfa48f15",
   "metadata": {},
   "outputs": [],
   "source": [
    "sentences=nltk.sent_tokenize(paragraph)"
   ]
  },
  {
   "cell_type": "code",
   "execution_count": 44,
   "id": "f7a03ab4-c18a-4a8c-bdf9-d972202090a9",
   "metadata": {},
   "outputs": [],
   "source": [
    "# Using SnowballStemmer\n",
    "from nltk.stem import SnowballStemmer\n",
    "snowballstemmer=SnowballStemmer('english')"
   ]
  },
  {
   "cell_type": "code",
   "execution_count": 45,
   "id": "454c428b-d281-4ff4-b06b-7fc6602db010",
   "metadata": {},
   "outputs": [],
   "source": [
    "for i in range(len(sentences)):\n",
    "    words=nltk.word_tokenize(sentences[i])\n",
    "    words=[snowballstemmer.stem(word) for word in words if word not in list(stopwords.words('english'))]\n",
    "    sentences[i]=' '.join(words)"
   ]
  },
  {
   "cell_type": "code",
   "execution_count": 46,
   "id": "798a97f3-0071-4aa3-ba27-76c7a947e3ae",
   "metadata": {},
   "outputs": [
    {
     "data": {
      "text/plain": [
       "['my young friend , strength nation come rich soil size armi , charact determin youth .',\n",
       " 'you torchbear tomorrow , futur india rest hand .',\n",
       " 'do weak timid , weak greatest enemi progress .',\n",
       " 'fill heart courag , fill mind knowledg , dedic live selfless servic .',\n",
       " 'rememb everi great civil built hard work sacrific ordinari men women dare dream big .',\n",
       " 'india need dreamer today — men women rise selfish divis , dedic caus uniti uplift .',\n",
       " 'do wait other act ; take first step .',\n",
       " 'have faith strength , believ power truth , let life messag hope around .',\n",
       " 'if everi young person awaken call duti , forc earth stop nation reach highest peak great .']"
      ]
     },
     "execution_count": 46,
     "metadata": {},
     "output_type": "execute_result"
    }
   ],
   "source": [
    "sentences"
   ]
  },
  {
   "cell_type": "code",
   "execution_count": 47,
   "id": "054e30f0-d484-4254-9410-29cf4c235f6d",
   "metadata": {},
   "outputs": [],
   "source": [
    "sentences=nltk.sent_tokenize(paragraph)"
   ]
  },
  {
   "cell_type": "code",
   "execution_count": 48,
   "id": "e41dce7f-a68c-4bba-86b5-73ac481b5963",
   "metadata": {},
   "outputs": [],
   "source": [
    "from nltk.stem import WordNetLemmatizer\n",
    "lemmatizer=WordNetLemmatizer()"
   ]
  },
  {
   "cell_type": "code",
   "execution_count": 51,
   "id": "321d3ae0-af76-4bda-9527-e8c68f1919d4",
   "metadata": {},
   "outputs": [],
   "source": [
    "for i in range(len(sentences)):\n",
    "    words=nltk.word_tokenize(sentences[i].lower())\n",
    "    words=[lemmatizer.lemmatize(word,pos='v') for word in words if word not in set(stopwords.words('english'))]\n",
    "    sentences[i]=' '.join(words)"
   ]
  },
  {
   "cell_type": "code",
   "execution_count": 52,
   "id": "12712418-fd42-409c-887f-40e03a634753",
   "metadata": {},
   "outputs": [
    {
     "data": {
      "text/plain": [
       "['young friends , strength nation come riches soil size armies , character determination youth .',\n",
       " 'torchbearers tomorrow , future india rest hand .',\n",
       " 'weak timid , weakness greatest enemy progress .',\n",
       " 'fill hearts courage , fill mind knowledge , dedicate live selfless service .',\n",
       " 'remember every great civilization build hard work sacrifice ordinary men women dare dream big .',\n",
       " 'india need dreamers today — men women rise selfishness division , dedicate cause unity upliftment .',\n",
       " 'wait others act ; take first step .',\n",
       " 'faith strength , believe power truth , let life message hope around .',\n",
       " 'every young person awaken call duty , force earth stop nation reach highest peak greatness .']"
      ]
     },
     "execution_count": 52,
     "metadata": {},
     "output_type": "execute_result"
    }
   ],
   "source": [
    "sentences"
   ]
  },
  {
   "cell_type": "code",
   "execution_count": null,
   "id": "4dc8b868-a65b-4052-99ce-b1c4db19a890",
   "metadata": {},
   "outputs": [],
   "source": []
  }
 ],
 "metadata": {
  "kernelspec": {
   "display_name": "Python 3 (ipykernel)",
   "language": "python",
   "name": "python3"
  },
  "language_info": {
   "codemirror_mode": {
    "name": "ipython",
    "version": 3
   },
   "file_extension": ".py",
   "mimetype": "text/x-python",
   "name": "python",
   "nbconvert_exporter": "python",
   "pygments_lexer": "ipython3",
   "version": "3.13.6"
  }
 },
 "nbformat": 4,
 "nbformat_minor": 5
}
