{
 "cells": [
  {
   "cell_type": "markdown",
   "id": "d476ef96-5f6c-4acc-aada-0d59be660b1a",
   "metadata": {},
   "source": [
    "# Parts of Speech"
   ]
  },
  {
   "cell_type": "code",
   "execution_count": 1,
   "id": "d808b7f9-42c0-47c1-ac41-2d0d90e9d6c0",
   "metadata": {},
   "outputs": [],
   "source": [
    "# Swami Vivekananda’s addresses to the youth\n",
    "paragraph=\"\"\"My young friends, the strength of a nation does not come from the riches of its soil or the size of its armies, but from the character and determination of its youth. You are the torchbearers of tomorrow, and the future of India rests in your hands. Do not be weak or timid, for weakness is the greatest enemy of progress. Fill your hearts with courage, fill your minds with knowledge, and dedicate your lives to selfless service. Remember that every great civilization was built by the hard work and sacrifice of ordinary men and women who dared to dream big. India needs such dreamers today — men and women who will rise above selfishness and division, and who will dedicate themselves to the cause of unity and upliftment. Do not wait for others to act; take the first step yourself. Have faith in your own strength, believe in the power of truth, and let your life be a message of hope for those around you. If every young person can awaken to this call of duty, no force on earth can stop our nation from reaching the highest peaks of greatness.\"\"\""
   ]
  },
  {
   "cell_type": "markdown",
   "id": "1d915ebb-6dd8-402f-9648-adc322608479",
   "metadata": {},
   "source": [
    "\n",
    "| **Tag** | **Full Form**                           | **Example**           |\n",
    "| ------- | --------------------------------------- | --------------------- |\n",
    "| CC      | Coordinating Conjunction                | and, but, or          |\n",
    "| CD      | Cardinal Number                         | one, two, 3, 1967     |\n",
    "| DT      | Determiner                              | the, a, these         |\n",
    "| EX      | Existential \"there\"                     | there is, there was   |\n",
    "| FW      | Foreign Word                            | d’accord, gesundheit  |\n",
    "| IN      | Preposition / Subordinating Conjunction | in, of, like, because |\n",
    "| JJ      | Adjective                               | big, old, green       |\n",
    "| JJR     | Adjective, Comparative                  | bigger, older         |\n",
    "| JJS     | Adjective, Superlative                  | biggest, oldest       |\n",
    "| LS      | List Item Marker                        | 1), A.                |\n",
    "| MD      | Modal                                   | can, should, will     |\n",
    "| NN      | Noun, Singular or Mass                  | dog, car, freedom     |\n",
    "| NNS     | Noun, Plural                            | dogs, cars            |\n",
    "| NNP     | Proper Noun, Singular                   | John, London          |\n",
    "| NNPS    | Proper Noun, Plural                     | Vikings, Americans    |\n",
    "| PDT     | Predeterminer                           | all, both, half       |\n",
    "| POS     | Possessive Ending                       | ’s, ’                 |\n",
    "| PRP     | Personal Pronoun                        | I, he, she, we, they  |\n",
    "| PRP\\$   | Possessive Pronoun                      | my, his, her, their   |\n",
    "| RB      | Adverb                                  | quickly, silently     |\n",
    "| RBR     | Adverb, Comparative                     | faster, better        |\n",
    "| RBS     | Adverb, Superlative                     | fastest, best         |\n",
    "| RP      | Particle                                | up, off, out          |\n",
    "| SYM     | Symbol                                  | \\$, %, §              |\n",
    "| TO      | “to”                                    | to go, to eat         |\n",
    "| UH      | Interjection                            | uh, oh, wow           |\n",
    "| VB      | Verb, Base Form                         | run, eat, be          |\n",
    "| VBD     | Verb, Past Tense                        | ran, ate              |\n",
    "| VBG     | Verb, Gerund / Present Participle       | running, eating       |\n",
    "| VBN     | Verb, Past Participle                   | eaten, gone           |\n",
    "| VBP     | Verb, Non-3rd Person Singular Present   | I run, we eat         |\n",
    "| VBZ     | Verb, 3rd Person Singular Present       | runs, eats            |\n",
    "| WDT     | Wh-determiner                           | which, that           |\n",
    "| WP      | Wh-pronoun                              | who, what             |\n",
    "| WP\\$    | Possessive Wh-pronoun                   | whose                 |\n",
    "| WRB     | Wh-adverb                               | where, when           |\n"
   ]
  },
  {
   "cell_type": "code",
   "execution_count": 2,
   "id": "890d19bc-163d-4e08-b068-4805f4e64861",
   "metadata": {},
   "outputs": [],
   "source": [
    "from nltk.corpus import stopwords"
   ]
  },
  {
   "cell_type": "code",
   "execution_count": 3,
   "id": "8fd524bb-8fcf-4e1c-bf1b-9640e4643c33",
   "metadata": {},
   "outputs": [
    {
     "name": "stderr",
     "output_type": "stream",
     "text": [
      "[nltk_data] Downloading package averaged_perceptron_tagger_eng to\n",
      "[nltk_data]     C:\\Users\\wania\\AppData\\Roaming\\nltk_data...\n",
      "[nltk_data]   Package averaged_perceptron_tagger_eng is already up-to-\n",
      "[nltk_data]       date!\n"
     ]
    },
    {
     "data": {
      "text/plain": [
       "True"
      ]
     },
     "execution_count": 3,
     "metadata": {},
     "output_type": "execute_result"
    }
   ],
   "source": [
    "import nltk\n",
    "nltk.download('averaged_perceptron_tagger_eng')"
   ]
  },
  {
   "cell_type": "code",
   "execution_count": 4,
   "id": "319915fc-5724-4875-b9a1-1ed5d29b430c",
   "metadata": {},
   "outputs": [
    {
     "name": "stdout",
     "output_type": "stream",
     "text": [
      "['My young friends, the strength of a nation does not come from the riches of its soil or the size of its armies, but from the character and determination of its youth.', 'You are the torchbearers of tomorrow, and the future of India rests in your hands.', 'Do not be weak or timid, for weakness is the greatest enemy of progress.', 'Fill your hearts with courage, fill your minds with knowledge, and dedicate your lives to selfless service.', 'Remember that every great civilization was built by the hard work and sacrifice of ordinary men and women who dared to dream big.', 'India needs such dreamers today — men and women who will rise above selfishness and division, and who will dedicate themselves to the cause of unity and upliftment.', 'Do not wait for others to act; take the first step yourself.', 'Have faith in your own strength, believe in the power of truth, and let your life be a message of hope for those around you.', 'If every young person can awaken to this call of duty, no force on earth can stop our nation from reaching the highest peaks of greatness.']\n"
     ]
    }
   ],
   "source": [
    "sentences=nltk.sent_tokenize(paragraph)\n",
    "print(sentences)"
   ]
  },
  {
   "cell_type": "markdown",
   "id": "fd595153-4466-4725-a21a-565e1e6e426c",
   "metadata": {},
   "source": [
    "## FINDING POS TAGS"
   ]
  },
  {
   "cell_type": "code",
   "execution_count": 5,
   "id": "8f85dd35-389a-4575-850a-349fb4f13e1d",
   "metadata": {},
   "outputs": [
    {
     "name": "stdout",
     "output_type": "stream",
     "text": [
      "[('My', 'PRP$'), ('young', 'JJ'), ('friends', 'NNS'), (',', ','), ('strength', 'NN'), ('nation', 'NN'), ('come', 'VB'), ('riches', 'NNS'), ('soil', 'VBP'), ('size', 'NN'), ('armies', 'NNS'), (',', ','), ('character', 'NN'), ('determination', 'NN'), ('youth', 'NN'), ('.', '.')]\n",
      "[('You', 'PRP'), ('torchbearers', 'NNS'), ('tomorrow', 'NN'), (',', ','), ('future', 'JJ'), ('India', 'NNP'), ('rests', 'VBZ'), ('hands', 'NNS'), ('.', '.')]\n",
      "[('Do', 'VB'), ('weak', 'JJ'), ('timid', 'NN'), (',', ','), ('weakness', 'NN'), ('greatest', 'JJS'), ('enemy', 'NN'), ('progress', 'NN'), ('.', '.')]\n",
      "[('Fill', 'NNP'), ('hearts', 'VBZ'), ('courage', 'NN'), (',', ','), ('fill', 'VB'), ('minds', 'NNS'), ('knowledge', 'VB'), (',', ','), ('dedicate', 'VB'), ('lives', 'NNS'), ('selfless', 'JJ'), ('service', 'NN'), ('.', '.')]\n",
      "[('Remember', 'NNP'), ('every', 'DT'), ('great', 'JJ'), ('civilization', 'NN'), ('built', 'VBN'), ('hard', 'JJ'), ('work', 'NN'), ('sacrifice', 'NN'), ('ordinary', 'JJ'), ('men', 'NNS'), ('women', 'NNS'), ('dared', 'VBD'), ('dream', 'NN'), ('big', 'JJ'), ('.', '.')]\n",
      "[('India', 'NNP'), ('needs', 'VBZ'), ('dreamers', 'NNS'), ('today', 'NN'), ('—', 'VBP'), ('men', 'NNS'), ('women', 'NNS'), ('rise', 'NN'), ('selfishness', 'NN'), ('division', 'NN'), (',', ','), ('dedicate', 'NN'), ('cause', 'NN'), ('unity', 'NN'), ('upliftment', 'NN'), ('.', '.')]\n",
      "[('Do', 'NNP'), ('wait', 'VBD'), ('others', 'NNS'), ('act', 'VBP'), (';', ':'), ('take', 'VB'), ('first', 'JJ'), ('step', 'NN'), ('.', '.')]\n",
      "[('Have', 'VBP'), ('faith', 'VBN'), ('strength', 'NN'), (',', ','), ('believe', 'VBP'), ('power', 'NN'), ('truth', 'NN'), (',', ','), ('let', 'VB'), ('life', 'NN'), ('message', 'VB'), ('hope', 'NN'), ('around', 'IN'), ('.', '.')]\n",
      "[('If', 'IN'), ('every', 'DT'), ('young', 'JJ'), ('person', 'NN'), ('awaken', 'IN'), ('call', 'NN'), ('duty', 'NN'), (',', ','), ('force', 'NN'), ('earth', 'NN'), ('stop', 'VB'), ('nation', 'NN'), ('reaching', 'VBG'), ('highest', 'JJS'), ('peaks', 'NNS'), ('greatness', 'NN'), ('.', '.')]\n"
     ]
    }
   ],
   "source": [
    "# Using Pos-Tag\n",
    "for i in range(len(sentences)):\n",
    "    words=nltk.word_tokenize(sentences[i])\n",
    "    words=[word for word in words if word not in set(stopwords.words('english'))]\n",
    "    pos_tag=nltk.pos_tag(words)\n",
    "    print(pos_tag)"
   ]
  },
  {
   "cell_type": "code",
   "execution_count": 7,
   "id": "4d297672-22ee-49b6-a4ee-08e4187d60b8",
   "metadata": {},
   "outputs": [
    {
     "name": "stdout",
     "output_type": "stream",
     "text": [
      "[('My', 'PRP$'), ('name', 'NN'), ('is', 'VBZ'), ('Keshav', 'NNP'), ('Bagad', 'NNP')]\n"
     ]
    }
   ],
   "source": [
    "print(nltk.pos_tag(\"My name is Keshav Bagad\".split()))"
   ]
  }
 ],
 "metadata": {
  "kernelspec": {
   "display_name": "Python 3 (ipykernel)",
   "language": "python",
   "name": "python3"
  },
  "language_info": {
   "codemirror_mode": {
    "name": "ipython",
    "version": 3
   },
   "file_extension": ".py",
   "mimetype": "text/x-python",
   "name": "python",
   "nbconvert_exporter": "python",
   "pygments_lexer": "ipython3",
   "version": "3.13.6"
  }
 },
 "nbformat": 4,
 "nbformat_minor": 5
}
