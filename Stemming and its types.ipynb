{
 "cells": [
  {
   "cell_type": "markdown",
   "id": "e9d2f511-8216-4e92-bbcd-083d8b8e73c2",
   "metadata": {},
   "source": [
    "# Stemming - Process of reducing a word to its stem word\n",
    "# Like - goes,gone,going -> GO\n",
    "# All words are equivalent to Word stem and not impact on positive or negative review\n"
   ]
  },
  {
   "cell_type": "code",
   "execution_count": 1,
   "id": "19883310-4d36-436d-9ad5-d3e32293add8",
   "metadata": {},
   "outputs": [],
   "source": [
    "words=['eating',\"eats\",\"eaten\",\"writing\",\"written\",\"programming\",\"programs\", \"finally\",\"finalize\",\"history\"]\n"
   ]
  },
  {
   "cell_type": "markdown",
   "id": "f409eb44-6407-4797-bf5c-ce00b0ea98de",
   "metadata": {},
   "source": [
    "## PorterStemmer"
   ]
  },
  {
   "cell_type": "code",
   "execution_count": 3,
   "id": "052de031-6579-4df4-a431-a498666d5179",
   "metadata": {},
   "outputs": [
    {
     "name": "stdout",
     "output_type": "stream",
     "text": [
      "eating----->eat\n",
      "eats----->eat\n",
      "eaten----->eaten\n",
      "writing----->write\n",
      "written----->written\n",
      "programming----->program\n",
      "programs----->program\n",
      "finally----->final\n",
      "finalize----->final\n",
      "history----->histori\n"
     ]
    },
    {
     "data": {
      "text/plain": [
       "'congratul'"
      ]
     },
     "execution_count": 3,
     "metadata": {},
     "output_type": "execute_result"
    }
   ],
   "source": [
    "from nltk.stem import PorterStemmer\n",
    "stemming=PorterStemmer()\n",
    "\n",
    "for word in words:\n",
    "    print(word+\"----->\"+stemming.stem(word))\n",
    "\n",
    "stemming.stem(\"congratulations\")\n"
   ]
  },
  {
   "cell_type": "markdown",
   "id": "308c7889-904b-4972-8988-cc4e39f0d95b",
   "metadata": {},
   "source": [
    "## RegExpStemmer"
   ]
  },
  {
   "cell_type": "code",
   "execution_count": 4,
   "id": "bea3b929-d060-48d8-b5e4-aa6ed48f7a70",
   "metadata": {},
   "outputs": [
    {
     "data": {
      "text/plain": [
       "'eat'"
      ]
     },
     "execution_count": 4,
     "metadata": {},
     "output_type": "execute_result"
    }
   ],
   "source": [
    "from nltk.stem import RegexpStemmer\n",
    "reg_stemmer = RegexpStemmer('ing$|s$|e$|able$',min=4)\n",
    "reg_stemmer.stem(\"eating\")"
   ]
  },
  {
   "cell_type": "markdown",
   "id": "96d17454-e379-4dfb-abcc-ea99342b92e7",
   "metadata": {},
   "source": [
    "## Snowball Stemmer"
   ]
  },
  {
   "cell_type": "code",
   "execution_count": 8,
   "id": "8e36a846-a20f-4b3d-865c-867b5dd024c6",
   "metadata": {},
   "outputs": [],
   "source": [
    "from nltk.stem import SnowballStemmer \n",
    "snowball_stemmer=SnowballStemmer('english')"
   ]
  },
  {
   "cell_type": "markdown",
   "id": "6eb11dd9-e5e1-47f4-a30e-1e6f4c65c286",
   "metadata": {},
   "source": [
    "## Difference in PortStemmer and Snowball Stemmer"
   ]
  },
  {
   "cell_type": "code",
   "execution_count": 9,
   "id": "c3dd61ab-d352-4da9-8073-96ee6bdc7a50",
   "metadata": {},
   "outputs": [
    {
     "name": "stdout",
     "output_type": "stream",
     "text": [
      "fairli\n",
      "sportingli\n",
      "fair\n",
      "sport\n"
     ]
    }
   ],
   "source": [
    "print(stemming.stem(\"fairly\"))\n",
    "print(stemming.stem(\"sportingly\"))\n",
    "\n",
    "print(snowball_stemmer.stem(\"fairly\"))\n",
    "print(snowball_stemmer.stem(\"sportingly\"))"
   ]
  }
 ],
 "metadata": {
  "kernelspec": {
   "display_name": "Python 3 (ipykernel)",
   "language": "python",
   "name": "python3"
  },
  "language_info": {
   "codemirror_mode": {
    "name": "ipython",
    "version": 3
   },
   "file_extension": ".py",
   "mimetype": "text/x-python",
   "name": "python",
   "nbconvert_exporter": "python",
   "pygments_lexer": "ipython3",
   "version": "3.13.6"
  }
 },
 "nbformat": 4,
 "nbformat_minor": 5
}
