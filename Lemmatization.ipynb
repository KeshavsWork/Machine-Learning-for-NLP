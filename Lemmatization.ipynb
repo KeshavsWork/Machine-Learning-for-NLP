{
 "cells": [
  {
   "cell_type": "markdown",
   "id": "3f11771d-1016-4b71-9dc7-86f2b5bd76b7",
   "metadata": {},
   "source": [
    "# Lemmatization - Similar to Stemming\n",
    "# It will give Lemma which is a root word unlike stemming which gives word stem\n",
    "# Root Word is a meaningful word having similar meaning as per the original word\n",
    "# NLTK provides WordNetLammetizer class which is a thin wrapper around the wordnet corpus.\n",
    "# This class uses morphy() function to the WordNet CorpusReader class to find a Lemma\n",
    "\n",
    "# Mostly used in Q&A chatbots, Text summarizers"
   ]
  },
  {
   "cell_type": "code",
   "execution_count": 11,
   "id": "4b0e23b1-41fa-4468-b250-04ff807a7285",
   "metadata": {},
   "outputs": [
    {
     "name": "stderr",
     "output_type": "stream",
     "text": [
      "[nltk_data] Downloading package wordnet to\n",
      "[nltk_data]     C:\\Users\\wania\\AppData\\Roaming\\nltk_data...\n"
     ]
    },
    {
     "data": {
      "text/plain": [
       "True"
      ]
     },
     "execution_count": 11,
     "metadata": {},
     "output_type": "execute_result"
    }
   ],
   "source": [
    "from nltk.stem import WordNetLemmatizer\n",
    "import nltk\n",
    "nltk.download('wordnet')"
   ]
  },
  {
   "cell_type": "code",
   "execution_count": 12,
   "id": "8eb06e48-735b-4823-b5d6-3925a1295e70",
   "metadata": {},
   "outputs": [],
   "source": [
    "lemmatizer=WordNetLemmatizer()"
   ]
  },
  {
   "cell_type": "markdown",
   "id": "07371799-2e61-4d7f-b5f0-a6a1510c77b2",
   "metadata": {},
   "source": [
    "## POS - \n",
    "## Noun - n\n",
    "## Verb - v\n",
    "## Adjective - a\n",
    "## Adverb - r"
   ]
  },
  {
   "cell_type": "code",
   "execution_count": 14,
   "id": "2de23382-11b1-4bfa-be1d-63e8e470fcfb",
   "metadata": {},
   "outputs": [
    {
     "data": {
      "text/plain": [
       "'go'"
      ]
     },
     "execution_count": 14,
     "metadata": {},
     "output_type": "execute_result"
    }
   ],
   "source": [
    "lemmatizer.lemmatize(\"going\",pos='v')"
   ]
  },
  {
   "cell_type": "code",
   "execution_count": 15,
   "id": "4ddf949f-b683-4abf-ac48-2375fd7b34e2",
   "metadata": {},
   "outputs": [],
   "source": [
    "words=['eating',\"eats\",\"eaten\",\"writing\",\"written\",\"programming\",\"programs\", \"finally\",\"finalize\",\"history\"]"
   ]
  },
  {
   "cell_type": "code",
   "execution_count": 21,
   "id": "7c28e8e4-d1a4-40e5-a745-f8bb429f0875",
   "metadata": {},
   "outputs": [
    {
     "name": "stdout",
     "output_type": "stream",
     "text": [
      "eating---->eat\n",
      "eats---->eat\n",
      "eaten---->eat\n",
      "writing---->write\n",
      "written---->write\n",
      "programming---->program\n",
      "programs---->program\n",
      "finally---->finally\n",
      "finalize---->finalize\n",
      "history---->history\n"
     ]
    }
   ],
   "source": [
    "for word in words:\n",
    "    print(word+\"---->\"+lemmatizer.lemmatize(word,pos='v'))"
   ]
  },
  {
   "cell_type": "code",
   "execution_count": 28,
   "id": "ab8097ff-c1a1-4fa5-a468-2648aeb235bd",
   "metadata": {},
   "outputs": [
    {
     "name": "stdout",
     "output_type": "stream",
     "text": [
      "fairly\n",
      "sportingly\n"
     ]
    }
   ],
   "source": [
    "print(lemmatizer.lemmatize(\"fairly\",pos='v'))\n",
    "print(lemmatizer.lemmatize(\"sportingly\",pos='v'))"
   ]
  }
 ],
 "metadata": {
  "kernelspec": {
   "display_name": "Python 3 (ipykernel)",
   "language": "python",
   "name": "python3"
  },
  "language_info": {
   "codemirror_mode": {
    "name": "ipython",
    "version": 3
   },
   "file_extension": ".py",
   "mimetype": "text/x-python",
   "name": "python",
   "nbconvert_exporter": "python",
   "pygments_lexer": "ipython3",
   "version": "3.13.6"
  }
 },
 "nbformat": 4,
 "nbformat_minor": 5
}
