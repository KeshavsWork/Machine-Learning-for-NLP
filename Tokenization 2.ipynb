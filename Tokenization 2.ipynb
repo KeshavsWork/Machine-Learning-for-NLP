{
 "cells": [
  {
   "cell_type": "code",
   "execution_count": 1,
   "id": "967e1e3a-a7e6-4fa7-abe3-9e4e6a5b7983",
   "metadata": {},
   "outputs": [
    {
     "name": "stdout",
     "output_type": "stream",
     "text": [
      "My name is Keshav, and I’m a software engineer who loves building tools \n",
      "that make life easier. In my free time, I enjoy hiking, experimenting with new recipes, \n",
      "and playing chess. I believe learning is a lifelong journey, and I’m always curious about \n",
      "how things work.\n",
      "\n"
     ]
    }
   ],
   "source": [
    "# Example paragraph corpus\n",
    "corpus = \"\"\"My name is Keshav, and I’m a software engineer who loves building tools \n",
    "that make life easier. In my free time, I enjoy hiking, experimenting with new recipes, \n",
    "and playing chess. I believe learning is a lifelong journey, and I’m always curious about \n",
    "how things work.\n",
    "\"\"\"\n",
    "\n",
    "print(corpus)"
   ]
  },
  {
   "cell_type": "code",
   "execution_count": 2,
   "id": "063871ae-5da4-437c-8029-3a76d659faaa",
   "metadata": {},
   "outputs": [
    {
     "name": "stdout",
     "output_type": "stream",
     "text": [
      "<class 'list'>\n",
      "My name is Keshav, and I’m a software engineer who loves building tools \n",
      "that make life easier.\n",
      "In my free time, I enjoy hiking, experimenting with new recipes, \n",
      "and playing chess.\n",
      "I believe learning is a lifelong journey, and I’m always curious about \n",
      "how things work.\n"
     ]
    },
    {
     "name": "stderr",
     "output_type": "stream",
     "text": [
      "[nltk_data] Downloading package punkt to\n",
      "[nltk_data]     C:\\Users\\wania\\AppData\\Roaming\\nltk_data...\n",
      "[nltk_data]   Package punkt is already up-to-date!\n"
     ]
    }
   ],
   "source": [
    "# Sentence Tokenization\n",
    "from nltk.tokenize import sent_tokenize\n",
    "import nltk\n",
    "\n",
    "nltk.download('punkt')\n",
    "\n",
    "documents = sent_tokenize(corpus)\n",
    "print(type(documents))\n",
    "\n",
    "for sentence in documents:\n",
    "    print(sentence)"
   ]
  },
  {
   "cell_type": "code",
   "execution_count": 3,
   "id": "f0bc6101-562a-4c99-b987-37bd627dda66",
   "metadata": {},
   "outputs": [
    {
     "name": "stdout",
     "output_type": "stream",
     "text": [
      "['My', 'name', 'is', 'Keshav', ',', 'and', 'I', '’', 'm', 'a', 'software', 'engineer', 'who', 'loves', 'building', 'tools', 'that', 'make', 'life', 'easier', '.', 'In', 'my', 'free', 'time', ',', 'I', 'enjoy', 'hiking', ',', 'experimenting', 'with', 'new', 'recipes', ',', 'and', 'playing', 'chess', '.', 'I', 'believe', 'learning', 'is', 'a', 'lifelong', 'journey', ',', 'and', 'I', '’', 'm', 'always', 'curious', 'about', 'how', 'things', 'work', '.']\n"
     ]
    }
   ],
   "source": [
    "# Word Tokenization\n",
    "from nltk.tokenize import word_tokenize\n",
    "\n",
    "tokens = word_tokenize(corpus)\n",
    "print(tokens)"
   ]
  },
  {
   "cell_type": "code",
   "execution_count": 4,
   "id": "38e99516-f614-49a3-8fb2-acb5570c93c8",
   "metadata": {},
   "outputs": [
    {
     "name": "stdout",
     "output_type": "stream",
     "text": [
      "['My', 'name', 'is', 'Keshav', ',', 'and', 'I', '’', 'm', 'a', 'software', 'engineer', 'who', 'loves', 'building', 'tools', 'that', 'make', 'life', 'easier', '.']\n",
      "['In', 'my', 'free', 'time', ',', 'I', 'enjoy', 'hiking', ',', 'experimenting', 'with', 'new', 'recipes', ',', 'and', 'playing', 'chess', '.']\n",
      "['I', 'believe', 'learning', 'is', 'a', 'lifelong', 'journey', ',', 'and', 'I', '’', 'm', 'always', 'curious', 'about', 'how', 'things', 'work', '.']\n"
     ]
    }
   ],
   "source": [
    "# Sentence-wise word tokenization\n",
    "for sentence in documents:\n",
    "    print(word_tokenize(sentence))"
   ]
  },
  {
   "cell_type": "code",
   "execution_count": 5,
   "id": "f06cc95d-5f92-41c6-858a-db2cf88e26de",
   "metadata": {},
   "outputs": [
    {
     "name": "stdout",
     "output_type": "stream",
     "text": [
      "['I', \"'\", 'm', 'learning', 'NLP', '!']\n"
     ]
    }
   ],
   "source": [
    "# WordPunct Tokenizer\n",
    "from nltk.tokenize import wordpunct_tokenize\n",
    "\n",
    "text = \"I'm learning NLP!\"\n",
    "print(wordpunct_tokenize(text))"
   ]
  },
  {
   "cell_type": "code",
   "execution_count": 6,
   "id": "43a2ab1c-c168-4c9b-988d-68db7475dca0",
   "metadata": {},
   "outputs": [
    {
     "name": "stdout",
     "output_type": "stream",
     "text": [
      "['My', 'name', 'is', 'Keshav', ',', 'and', 'I’m', 'a', 'software', 'engineer', 'who', 'loves', 'building', 'tools', 'that', 'make', 'life', 'easier.', 'In', 'my', 'free', 'time', ',', 'I', 'enjoy', 'hiking', ',', 'experimenting', 'with', 'new', 'recipes', ',', 'and', 'playing', 'chess.', 'I', 'believe', 'learning', 'is', 'a', 'lifelong', 'journey', ',', 'and', 'I’m', 'always', 'curious', 'about', 'how', 'things', 'work', '.']\n"
     ]
    }
   ],
   "source": [
    "# Treebank Word Tokenizer\n",
    "from nltk.tokenize import TreebankWordTokenizer\n",
    "\n",
    "tokenizer = TreebankWordTokenizer()\n",
    "print(tokenizer.tokenize(corpus))"
   ]
  }
 ],
 "metadata": {
  "kernelspec": {
   "display_name": "Python 3 (ipykernel)",
   "language": "python",
   "name": "python3"
  },
  "language_info": {
   "codemirror_mode": {
    "name": "ipython",
    "version": 3
   },
   "file_extension": ".py",
   "mimetype": "text/x-python",
   "name": "python",
   "nbconvert_exporter": "python",
   "pygments_lexer": "ipython3",
   "version": "3.13.6"
  }
 },
 "nbformat": 4,
 "nbformat_minor": 5
}
